{
 "cells": [
  {
   "cell_type": "markdown",
   "metadata": {},
   "source": [
    "# Topic Modeling\n",
    "\n",
    "For this task, I want to use LDA and CoRex"
   ]
  },
  {
   "cell_type": "code",
   "execution_count": 12,
   "metadata": {},
   "outputs": [],
   "source": [
    "# Import all needed packages \n",
    "\n",
    "import pandas as pd\n",
    "import numpy as np\n",
    "import os\n",
    "from collections import defaultdict\n",
    "\n",
    "# Packages needed for topic modeling\n",
    "import gensim\n",
    "from gensim.utils import simple_preprocess\n",
    "from gensim.parsing.preprocessing import STOPWORDS\n",
    "from gensim import corpora, models\n",
    "from nltk.stem import WordNetLemmatizer, SnowballStemmer\n",
    "from nltk.stem.porter import *\n",
    "from nltk.corpus import wordnet\n",
    "from nltk import pos_tag\n",
    "import nltk.data\n",
    "from gensim.models.coherencemodel import CoherenceModel\n",
    "\n",
    "\n",
    "# CoRex\n",
    "from corextopic import corextopic as ct\n",
    "import copy"
   ]
  },
  {
   "cell_type": "code",
   "execution_count": null,
   "metadata": {},
   "outputs": [],
   "source": [
    "#optional: download wordnet\n",
    "# nltk.download('wordnet')"
   ]
  },
  {
   "cell_type": "markdown",
   "metadata": {},
   "source": [
    "## Preprocessing\n",
    "Just preprocessing through the code"
   ]
  },
  {
   "cell_type": "code",
   "execution_count": 2,
   "metadata": {},
   "outputs": [],
   "source": [
    "# Get current directory\n",
    "directory = os.getcwd()"
   ]
  },
  {
   "cell_type": "code",
   "execution_count": 3,
   "metadata": {},
   "outputs": [],
   "source": [
    "# Get all the author and title of the books \n",
    "filepath = os.path.join(directory, 'Gutenberg/txt/')\n",
    "files = os.listdir(filepath)"
   ]
  },
  {
   "cell_type": "code",
   "execution_count": 4,
   "metadata": {},
   "outputs": [],
   "source": [
    "# Make a dict for authors and titles\n",
    "titles = dict()\n",
    "text_files = dict()\n",
    "\n",
    "# Check every file\n",
    "for file in files:\n",
    "    # Split the author and title\n",
    "    split = file.split('___')\n",
    "    try:\n",
    "        author = split[0]\n",
    "        title = split[1].split('.')[0]\n",
    "    except:\n",
    "        # Not a valid title file\n",
    "        pass\n",
    "    if author not in titles:\n",
    "        titles[author] = []\n",
    "        text_files[author] = []\n",
    "        \n",
    "    text_files[author].append(file)\n",
    "    titles[author].append(title)"
   ]
  },
  {
   "cell_type": "code",
   "execution_count": null,
   "metadata": {},
   "outputs": [],
   "source": [
    "# Look at the data distribution\n",
    "# for author in titles:\n",
    "#     print(\"{} has {} titles\".format(author, len(titles[author])))\n",
    "\n",
    "\n",
    "# print('Books from Sir Arthur Conan Doyle:')\n",
    "# print(titles['Sir Arthur Conan Doyle'])\n",
    "\n",
    "# print('Books from Oscar Wilde:')\n",
    "# print(titles['Oscar Wilde'])\n",
    "\n",
    "# print('Books from Charles Dickens:')\n",
    "# print(titles['Charles Dickens'])"
   ]
  },
  {
   "cell_type": "markdown",
   "metadata": {},
   "source": [
    "### Some interesting names to look at:\n",
    "* William Wymark Jacobs (97 titles)\n",
    "* Oscar Wilde (27)\n",
    "* Sir Arthur Conan Doyle (57)\n",
    "* Abraham Lincoln \n",
    "* Charles Dickens (61)\n",
    "* Mark Twain \n",
    "* Albert Einstein (2 titles)"
   ]
  },
  {
   "cell_type": "markdown",
   "metadata": {},
   "source": [
    "## Latent Dirichlet Allocation (LDA)"
   ]
  },
  {
   "cell_type": "code",
   "execution_count": null,
   "metadata": {},
   "outputs": [],
   "source": [
    "# # Read in the book of certain authors\n",
    "# relativity = text_files['Oscar Wilde'][1]\n",
    "# file = os.path.join(filepath, relativity)\n",
    "# # Get all the words out of the text\n",
    "# with open(file) as f:\n",
    "#     data = f.read()\n",
    "#     data = data.replace(\"[^a-zA-Z#]\", \"\")\n",
    "#     data = data.lower()"
   ]
  },
  {
   "cell_type": "code",
   "execution_count": null,
   "metadata": {},
   "outputs": [],
   "source": [
    "# # Split the document based on sentences\n",
    "# # We got 3227 sentences\n",
    "# tokenizer = nltk.data.load('tokenizers/punkt/english.pickle')\n",
    "# sentences = tokenizer.tokenize(data)"
   ]
  },
  {
   "cell_type": "code",
   "execution_count": 5,
   "metadata": {},
   "outputs": [],
   "source": [
    "# Read in all the books from an author\n",
    "# Each book is considered a document now. \n",
    "documents = []\n",
    "books = text_files['Nathaniel Hawthorne']\n",
    "for book in books:\n",
    "    file = os.path.join(filepath, book)\n",
    "    with open(file) as f:\n",
    "        data = f.read()\n",
    "        data = data.replace(\"[^a-zA-Z#]\", \"\")\n",
    "        data = data.lower()\n",
    "        documents.append(data)"
   ]
  },
  {
   "cell_type": "code",
   "execution_count": null,
   "metadata": {},
   "outputs": [],
   "source": [
    "len(documents[0])"
   ]
  },
  {
   "cell_type": "markdown",
   "metadata": {},
   "source": [
    "### Word Preprocessing\n"
   ]
  },
  {
   "cell_type": "markdown",
   "metadata": {},
   "source": [
    "For Oscar Wilde 1st book, we remove from 21333 words to 8508 important words"
   ]
  },
  {
   "cell_type": "code",
   "execution_count": 6,
   "metadata": {},
   "outputs": [],
   "source": [
    "# Choose the most important words \n",
    "def preprocess(sentence):\n",
    "    preprocess = simple_preprocess(sentence)\n",
    "\n",
    "    # Remove stopwords: transitions and preposition \n",
    "    # Remove words that are less than 3 characters as well \n",
    "    accepted = []\n",
    "    for token in preprocess:\n",
    "        if token not in STOPWORDS and len(token) > 3:\n",
    "            accepted.append(token)\n",
    "    return accepted"
   ]
  },
  {
   "cell_type": "code",
   "execution_count": 7,
   "metadata": {},
   "outputs": [],
   "source": [
    "# Lemmatize and stemm words\n",
    "def lem_n_stem(tokens):\n",
    "    lemmatizer = WordNetLemmatizer()\n",
    "    stemmer = SnowballStemmer('english')\n",
    "\n",
    "    # We are using pretrained model, so \n",
    "    tag_map = defaultdict(lambda: wordnet.NOUN)\n",
    "    tag_map['J'] = wordnet.ADJ\n",
    "    tag_map['V'] = wordnet.VERB\n",
    "    tag_map['R'] = wordnet.ADV\n",
    "\n",
    "    stem_accepted = []\n",
    "\n",
    "    for token, tag in pos_tag(tokens):\n",
    "        lemma = lemmatizer.lemmatize(token, tag_map[tag[0]])\n",
    "        stemm = stemmer.stem(lemma)\n",
    "        stem_accepted.append(stemm)\n",
    "    return stem_accepted"
   ]
  },
  {
   "cell_type": "code",
   "execution_count": null,
   "metadata": {},
   "outputs": [],
   "source": [
    "# # Apply preprocessing on our sentences\n",
    "# # This is slow... need to find a better way!!!\n",
    "# pre = [preprocess(sentence) for sentence in sentences]\n",
    "# processed = [lem_n_stem(tokens) for tokens in pre]\n",
    "# processed = [x for x in processed if x != []]"
   ]
  },
  {
   "cell_type": "code",
   "execution_count": 8,
   "metadata": {},
   "outputs": [],
   "source": [
    "# This is painfully slow!!! Cloud may help with this, but probably not worth\n",
    "pre = [preprocess(doc) for doc in documents]\n",
    "processed = [lem_n_stem(tokens) for tokens in pre]"
   ]
  },
  {
   "cell_type": "markdown",
   "metadata": {},
   "source": [
    "### Bag of Words"
   ]
  },
  {
   "cell_type": "code",
   "execution_count": 9,
   "metadata": {},
   "outputs": [
    {
     "name": "stdout",
     "output_type": "stream",
     "text": [
      "Dictionary(17886 unique tokens: ['accomplish', 'accustom', 'acknowledg', 'acquaint', 'action']...)\n"
     ]
    }
   ],
   "source": [
    "# Create a dictionary \n",
    "dictionary = gensim.corpora.Dictionary(processed)\n",
    "print(dictionary)"
   ]
  },
  {
   "cell_type": "code",
   "execution_count": 10,
   "metadata": {},
   "outputs": [
    {
     "name": "stdout",
     "output_type": "stream",
     "text": [
      "Dictionary(3370 unique tokens: ['action', 'afar', 'agoni', 'akin', 'aloud']...)\n"
     ]
    }
   ],
   "source": [
    "# Optional: More extreme filtering. dictionary from 1480 to 83...\n",
    "dictionary.filter_extremes(no_below=15, no_above=0.5, keep_n=100000)\n",
    "print(dictionary)"
   ]
  },
  {
   "cell_type": "code",
   "execution_count": null,
   "metadata": {},
   "outputs": [],
   "source": [
    "# count = 0\n",
    "# for k, v in dictionary.iteritems():\n",
    "#     print(k, v)\n",
    "#     count += 1\n",
    "#     if count > 10:\n",
    "#         break\n",
    "# print(dictionary)"
   ]
  },
  {
   "cell_type": "code",
   "execution_count": 11,
   "metadata": {},
   "outputs": [],
   "source": [
    "# Create corpus bag of words\n",
    "bow_corpus = [dictionary.doc2bow(doc) for doc in processed]\n"
   ]
  },
  {
   "cell_type": "code",
   "execution_count": null,
   "metadata": {},
   "outputs": [],
   "source": [
    "# # Preview\n",
    "# bow_doc_4310 = bow_corpus[0]\n",
    "# for i in range(len(bow_doc_4310)):\n",
    "#     print(\"Word {} (\\\"{}\\\") appears {} time.\".format(bow_doc_4310[i][0], dictionary[bow_doc_4310[i][0]], bow_doc_4310[i][1]))"
   ]
  },
  {
   "cell_type": "markdown",
   "metadata": {},
   "source": [
    "### TF-IDF???"
   ]
  },
  {
   "cell_type": "code",
   "execution_count": 13,
   "metadata": {},
   "outputs": [
    {
     "name": "stdout",
     "output_type": "stream",
     "text": [
      "[(0, 0.021270379939859675),\n",
      " (1, 0.030170334891873315),\n",
      " (2, 0.04682410666693226),\n",
      " (3, 0.030170334891873315),\n",
      " (4, 0.027426499395205944),\n",
      " (5, 0.02494439826929493),\n",
      " (6, 0.04221813888361676),\n",
      " (7, 0.062306363496019423),\n",
      " (8, 0.020593917213842513),\n",
      " (9, 0.018663971414774903),\n",
      " (10, 0.08145919885208103),\n",
      " (11, 0.028309375492566128),\n",
      " (12, 0.03323768201068193),\n",
      " (13, 0.01993458197984736),\n",
      " (14, 0.022678417476514726),\n",
      " (15, 0.028309375492566128),\n",
      " (16, 0.04221813888361676),\n",
      " (17, 0.03434603441421436),\n",
      " (18, 0.056618750985132256),\n",
      " (19, 0.018663971414774903),\n",
      " (20, 0.02196488378241461),\n",
      " (21, 0.035503662803462135),\n",
      " (22, 0.09345954524402914),\n",
      " (23, 0.021270379939859675),\n",
      " (24, 0.027426499395205944),\n",
      " (25, 0.021270379939859675),\n",
      " (26, 0.02922323594894211),\n",
      " (27, 0.04682410666693226),\n",
      " (28, 0.030170334891873315),\n",
      " (29, 0.03798576392937315),\n",
      " (30, 0.021270379939859675),\n",
      " (31, 0.039321561889385466),\n",
      " (32, 0.019291528303544626),\n",
      " (33, 0.030170334891873315),\n",
      " (34, 0.02657257533048946),\n",
      " (35, 0.17571907025931688),\n",
      " (36, 0.018663971414774903),\n",
      " (37, 0.02196488378241461),\n",
      " (38, 0.02657257533048946),\n",
      " (39, 0.02657257533048946),\n",
      " (40, 0.03323768201068193),\n",
      " (41, 0.019291528303544626),\n",
      " (42, 0.14047232000079676),\n",
      " (43, 0.04833391386818194),\n",
      " (44, 0.02574576459532334),\n",
      " (45, 0.03858305660708925),\n",
      " (46, 0.18191072537892694),\n",
      " (47, 0.039321561889385466),\n",
      " (48, 0.021270379939859675),\n",
      " (49, 0.018051181949525787),\n",
      " (50, 0.018051181949525787),\n",
      " (51, 0.039321561889385466),\n",
      " (52, 0.02196488378241461),\n",
      " (53, 0.02416695693409097),\n",
      " (54, 0.018663971414774903),\n",
      " (55, 0.02574576459532334),\n",
      " (56, 0.02341205333346613),\n",
      " (57, 0.02574576459532334),\n",
      " (58, 0.1179646856681564),\n",
      " (59, 0.05149152919064668),\n",
      " (60, 0.02341205333346613),\n",
      " (61, 0.030170334891873315),\n",
      " (62, 0.018663971414774903),\n",
      " (63, 0.06803525242954418),\n",
      " (64, 0.021270379939859675),\n",
      " (65, 0.02494439826929493),\n",
      " (66, 0.027426499395205944),\n",
      " (67, 0.031153181748009712),\n",
      " (68, 0.036715153364300694),\n",
      " (69, 0.02341205333346613),\n",
      " (70, 0.018051181949525787),\n",
      " (71, 0.04392976756482922),\n",
      " (72, 0.03323768201068193),\n",
      " (73, 0.045477681344731735),\n",
      " (74, 0.03798576392937315),\n",
      " (75, 0.022678417476514726),\n",
      " (76, 0.022678417476514726),\n",
      " (77, 0.03858305660708925),\n",
      " (78, 0.02196488378241461),\n",
      " (79, 0.028309375492566128),\n",
      " (80, 0.018663971414774903),\n",
      " (81, 0.028309375492566128),\n",
      " (82, 0.027426499395205944),\n",
      " (83, 0.03798576392937315),\n",
      " (84, 0.039321561889385466),\n",
      " (85, 0.07971772599146837),\n",
      " (86, 0.1287288229766167),\n",
      " (87, 0.02494439826929493),\n",
      " (88, 0.03323768201068193),\n",
      " (89, 0.02657257533048946),\n",
      " (90, 0.01993458197984736),\n",
      " (91, 0.035503662803462135),\n",
      " (92, 0.020593917213842513),\n",
      " (93, 0.02574576459532334),\n",
      " (94, 0.027426499395205944),\n",
      " (95, 0.02196488378241461),\n",
      " (96, 0.021270379939859675),\n",
      " (97, 0.039321561889385466),\n",
      " (98, 0.02416695693409097),\n",
      " (99, 0.04379694654484913),\n",
      " (100, 0.01993458197984736),\n",
      " (101, 0.04379694654484913),\n",
      " (102, 0.021270379939859675),\n",
      " (103, 0.02657257533048946),\n",
      " (104, 0.021270379939859675),\n",
      " (105, 0.021270379939859675),\n",
      " (106, 0.02657257533048946),\n",
      " (107, 0.07723729378597002),\n",
      " (108, 0.021270379939859675),\n",
      " (109, 0.020593917213842513),\n",
      " (110, 0.02341205333346613),\n",
      " (111, 0.03798576392937315),\n",
      " (112, 0.02341205333346613),\n",
      " (113, 0.04221813888361676),\n",
      " (114, 0.021270379939859675),\n",
      " (115, 0.09095536268946347),\n",
      " (116, 0.03798576392937315),\n",
      " (117, 0.040729599426040514),\n",
      " (118, 0.02196488378241461),\n",
      " (119, 0.07971772599146837),\n",
      " (120, 0.02922323594894211),\n",
      " (121, 0.027426499395205944),\n",
      " (122, 0.021270379939859675),\n",
      " (123, 0.030170334891873315),\n",
      " (124, 0.019291528303544626),\n",
      " (125, 0.022678417476514726),\n",
      " (126, 0.018663971414774903),\n",
      " (127, 0.04988879653858986),\n",
      " (128, 0.02196488378241461),\n",
      " (129, 0.027426499395205944),\n",
      " (130, 0.030170334891873315),\n",
      " (131, 0.07483319480788479),\n",
      " (132, 0.045477681344731735),\n",
      " (133, 0.035503662803462135),\n",
      " (134, 0.022678417476514726),\n",
      " (135, 0.0965237439416915),\n",
      " (136, 0.02341205333346613),\n",
      " (137, 0.027426499395205944),\n",
      " (138, 0.032174581313897166),\n",
      " (139, 0.0965237439416915),\n",
      " (140, 0.03434603441421436),\n",
      " (141, 0.036715153364300694),\n",
      " (142, 0.05844647189788422),\n",
      " (143, 0.06869206882842872),\n",
      " (144, 0.032174581313897166),\n",
      " (145, 0.04379694654484913),\n",
      " (146, 0.018051181949525787),\n",
      " (147, 0.04379694654484913),\n",
      " (148, 0.039321561889385466),\n",
      " (149, 0.04392976756482922),\n",
      " (150, 0.02494439826929493),\n",
      " (151, 0.028309375492566128),\n",
      " (152, 0.04221813888361676),\n",
      " (153, 0.027426499395205944),\n",
      " (154, 0.03798576392937315),\n",
      " (155, 0.02574576459532334),\n",
      " (156, 0.02574576459532334),\n",
      " (157, 0.032174581313897166),\n",
      " (158, 0.02657257533048946),\n",
      " (159, 0.02494439826929493),\n",
      " (160, 0.04221813888361676),\n",
      " (161, 0.032174581313897166),\n",
      " (162, 0.019291528303544626),\n",
      " (163, 0.02657257533048946),\n",
      " (164, 0.04221813888361676),\n",
      " (165, 0.018051181949525787),\n",
      " (166, 0.02416695693409097),\n",
      " (167, 0.027426499395205944),\n",
      " (168, 0.035503662803462135),\n",
      " (169, 0.02574576459532334),\n",
      " (170, 0.01993458197984736),\n",
      " (171, 0.03323768201068193),\n",
      " (172, 0.018663971414774903),\n",
      " (173, 0.028309375492566128),\n",
      " (174, 0.07864312377877093),\n",
      " (175, 0.02657257533048946),\n",
      " (176, 0.04379694654484913),\n",
      " (177, 0.05844647189788422),\n",
      " (178, 0.04535683495302945),\n",
      " (179, 0.02341205333346613),\n",
      " (180, 0.02922323594894211),\n",
      " (181, 0.045477681344731735),\n",
      " (182, 0.020593917213842513),\n",
      " (183, 0.01993458197984736),\n",
      " (184, 0.03434603441421436),\n",
      " (185, 0.08227949818561783),\n",
      " (186, 0.018051181949525787),\n",
      " (187, 0.0759715278587463),\n",
      " (188, 0.018051181949525787),\n",
      " (189, 0.03323768201068193),\n",
      " (190, 0.7599264999051015),\n",
      " (191, 0.02341205333346613),\n",
      " (192, 0.031153181748009712),\n",
      " (193, 0.020593917213842513),\n",
      " (194, 0.018663971414774903),\n",
      " (195, 0.0559919142443247),\n",
      " (196, 0.02341205333346613),\n",
      " (197, 0.04221813888361676),\n",
      " (198, 0.022678417476514726),\n",
      " (199, 0.018051181949525787),\n",
      " (200, 0.020593917213842513),\n",
      " (201, 0.032174581313897166),\n",
      " (202, 0.027426499395205944),\n",
      " (203, 0.02416695693409097),\n",
      " (204, 0.027426499395205944),\n",
      " (205, 0.01993458197984736),\n",
      " (206, 0.02341205333346613),\n",
      " (207, 0.02416695693409097),\n",
      " (208, 0.030170334891873315),\n",
      " (209, 0.028309375492566128),\n",
      " (210, 0.02341205333346613),\n",
      " (211, 0.01993458197984736),\n",
      " (212, 0.030170334891873315),\n",
      " (213, 0.01993458197984736),\n",
      " (214, 0.04379694654484913),\n",
      " (215, 0.04833391386818194),\n",
      " (216, 0.03798576392937315),\n",
      " (217, 0.06434916262779433),\n",
      " (218, 0.02196488378241461),\n",
      " (219, 0.040729599426040514),\n",
      " (220, 0.02922323594894211),\n",
      " (221, 0.02494439826929493),\n",
      " (222, 0.02922323594894211),\n",
      " (223, 0.10296958606921255),\n",
      " (224, 0.03323768201068193),\n",
      " (225, 0.030170334891873315),\n",
      " (226, 0.02416695693409097),\n",
      " (227, 0.02416695693409097),\n",
      " (228, 0.02657257533048946),\n",
      " (229, 0.021270379939859675)]\n"
     ]
    }
   ],
   "source": [
    "# Create a tf-idf model object\n",
    "tfidf = models.TfidfModel(bow_corpus)\n",
    "corpus_tfidf = tfidf[bow_corpus]\n",
    "from pprint import pprint\n",
    "\n",
    "for doc in corpus_tfidf:\n",
    "    pprint(doc)\n",
    "    break"
   ]
  },
  {
   "cell_type": "markdown",
   "metadata": {},
   "source": [
    "### Running LDA (finally...)"
   ]
  },
  {
   "cell_type": "code",
   "execution_count": 20,
   "metadata": {},
   "outputs": [
    {
     "name": "stdout",
     "output_type": "stream",
     "text": [
      "Topic 0 \n",
      "Words: 0.009*\"grandfath\" + 0.007*\"governor\" + 0.005*\"english\" + 0.003*\"doctor\" + 0.003*\"soldier\" + 0.003*\"william\" + 0.003*\"peter\" + 0.003*\"boston\" + 0.003*\"thou\" + 0.003*\"american\"\n",
      "Topic 1 \n",
      "Words: 0.005*\"english\" + 0.005*\"doctor\" + 0.004*\"american\" + 0.003*\"castl\" + 0.003*\"antiqu\" + 0.003*\"palac\" + 0.003*\"hotel\" + 0.003*\"tower\" + 0.003*\"arch\" + 0.003*\"artist\"\n",
      "Topic 2 \n",
      "Words: 0.013*\"grandfath\" + 0.004*\"english\" + 0.004*\"palac\" + 0.004*\"governor\" + 0.003*\"boston\" + 0.003*\"rock\" + 0.003*\"giant\" + 0.003*\"wing\" + 0.003*\"captain\" + 0.003*\"vessel\"\n",
      "Topic 3 \n",
      "Words: 0.003*\"thou\" + 0.003*\"veil\" + 0.003*\"peter\" + 0.002*\"wine\" + 0.002*\"portrait\" + 0.002*\"english\" + 0.002*\"governor\" + 0.002*\"painter\" + 0.002*\"edward\" + 0.002*\"rock\"\n",
      "Topic 4 \n",
      "Words: 0.008*\"english\" + 0.005*\"arch\" + 0.005*\"tower\" + 0.005*\"statu\" + 0.005*\"american\" + 0.004*\"sculptor\" + 0.004*\"cathedr\" + 0.003*\"castl\" + 0.003*\"antiqu\" + 0.003*\"palac\"\n",
      "Topic 5 \n",
      "Words: 0.008*\"doctor\" + 0.003*\"grim\" + 0.003*\"english\" + 0.003*\"shop\" + 0.002*\"colonel\" + 0.002*\"cousin\" + 0.002*\"antiqu\" + 0.002*\"road\" + 0.002*\"thou\" + 0.002*\"hospit\"\n",
      "Topic 6 \n",
      "Words: 0.003*\"thou\" + 0.002*\"cottag\" + 0.002*\"road\" + 0.002*\"doctor\" + 0.002*\"rock\" + 0.002*\"wine\" + 0.002*\"wing\" + 0.002*\"adventur\" + 0.002*\"valley\" + 0.002*\"poet\"\n",
      "Topic 7 \n",
      "Words: 0.005*\"thou\" + 0.004*\"pearl\" + 0.004*\"minist\" + 0.003*\"violet\" + 0.002*\"thee\" + 0.002*\"scarlet\" + 0.002*\"english\" + 0.002*\"poet\" + 0.002*\"artist\" + 0.002*\"valley\"\n",
      "Topic 8 \n",
      "Words: 0.003*\"american\" + 0.003*\"english\" + 0.003*\"grandfath\" + 0.002*\"arch\" + 0.002*\"governor\" + 0.002*\"antiqu\" + 0.002*\"cottag\" + 0.002*\"tower\" + 0.002*\"castl\" + 0.002*\"road\"\n",
      "Topic 9 \n",
      "Words: 0.005*\"giant\" + 0.005*\"palac\" + 0.005*\"wing\" + 0.003*\"sword\" + 0.003*\"dragon\" + 0.003*\"thou\" + 0.003*\"edward\" + 0.003*\"doctor\" + 0.003*\"cottag\" + 0.002*\"monster\"\n"
     ]
    }
   ],
   "source": [
    "lda_model = gensim.models.LdaMulticore(bow_corpus, num_topics=10, id2word=dictionary, passes=2, workers=2)\n",
    "\n",
    "for idx, topic in lda_model.print_topics(-1):\n",
    "    print('Topic {} \\nWords: {}'.format(idx, topic))"
   ]
  },
  {
   "cell_type": "code",
   "execution_count": 15,
   "metadata": {},
   "outputs": [
    {
     "name": "stdout",
     "output_type": "stream",
     "text": [
      "\n",
      "Coherence Score:  0.20995576378240371\n",
      "\n",
      "Coherence Score:  0.29609501915628483\n",
      "\n",
      "Coherence Score:  0.2566101987809268\n",
      "\n",
      "Coherence Score:  0.38276826371369477\n",
      "\n",
      "Coherence Score:  0.3222819471928544\n",
      "\n",
      "Coherence Score:  0.33745836151676634\n",
      "\n",
      "Coherence Score:  0.3426969974089576\n",
      "\n",
      "Coherence Score:  0.32814857157316396\n",
      "\n",
      "Coherence Score:  0.3350472799297533\n",
      "\n",
      "Coherence Score:  0.3790769278228912\n",
      "\n",
      "Coherence Score:  0.3486649575904527\n",
      "\n",
      "Coherence Score:  0.34830880153846566\n",
      "\n",
      "Coherence Score:  0.3599875880244711\n",
      "\n",
      "Coherence Score:  0.3054035596090578\n",
      "\n",
      "Coherence Score:  0.3361478074676712\n",
      "\n",
      "Coherence Score:  0.29389017281740715\n",
      "\n",
      "Coherence Score:  0.3260641597682348\n",
      "\n",
      "Coherence Score:  0.3226991890488996\n",
      "\n",
      "Coherence Score:  0.3188277372447812\n",
      "\n",
      "Coherence Score:  0.3401718141619298\n"
     ]
    }
   ],
   "source": [
    "# Running tests to find the number of topics with best \n",
    "iteration = []\n",
    "score = []\n",
    "for i in range(1, 41, 2):\n",
    "    lda_model = gensim.models.LdaMulticore(bow_corpus, num_topics=i, id2word=dictionary, passes=2, workers=2)\n",
    "    # Compute Coherence Score using c_v\n",
    "    coherence_model_lda = CoherenceModel(model=lda_model, texts=processed, dictionary=dictionary, coherence='c_v')\n",
    "    coherence_lda = coherence_model_lda.get_coherence()\n",
    "    print('\\nCoherence Score: ', coherence_lda)\n",
    "    iteration.append(i)\n",
    "    score.append(coherence_lda)\n",
    "    "
   ]
  },
  {
   "cell_type": "code",
   "execution_count": 34,
   "metadata": {},
   "outputs": [
    {
     "data": {
      "image/png": "[encoded data removed]",
      "text/plain": [
       "<Figure size 432x288 with 1 Axes>"
      ]
     },
     "metadata": {
      "needs_background": "light"
     },
     "output_type": "display_data"
    }
   ],
   "source": [
    "# Graph this\n",
    "import matplotlib.pyplot as plt\n",
    "plt.title('Coherence score over number of topics')\n",
    "plt.ylabel('Coherence Score')\n",
    "plt.xlabel('Number of Topics')\n",
    "plt.plot(iteration, score)\n",
    "plt.savefig('lda_score_topics.png')\n",
    "plt.show()"
   ]
  },
  {
   "cell_type": "code",
   "execution_count": 17,
   "metadata": {},
   "outputs": [
    {
     "name": "stdout",
     "output_type": "stream",
     "text": [
      "\n",
      "Coherence Score:  0.3599266872806405\n",
      "\n",
      "Coherence Score:  0.3921014398885025\n",
      "\n",
      "Coherence Score:  0.31040979576874433\n",
      "\n",
      "Coherence Score:  0.33313068478512686\n",
      "\n",
      "Coherence Score:  0.31977049208424735\n",
      "\n",
      "Coherence Score:  0.32898215535640984\n",
      "\n",
      "Coherence Score:  0.33881343996601243\n",
      "\n",
      "Coherence Score:  0.32146640824643763\n",
      "\n",
      "Coherence Score:  0.3584503961767879\n",
      "\n",
      "Coherence Score:  0.3625440298446873\n",
      "\n",
      "Coherence Score:  0.36348665610525344\n",
      "\n",
      "Coherence Score:  0.32009743485026854\n",
      "\n",
      "Coherence Score:  0.30423072339934015\n",
      "\n",
      "Coherence Score:  0.3308958764889959\n",
      "\n",
      "Coherence Score:  0.33235057515068234\n"
     ]
    }
   ],
   "source": [
    "it = []\n",
    "dict_score = []\n",
    "for i in range(1, 30, 2):\n",
    "    dictionary = gensim.corpora.Dictionary(processed)\n",
    "    dictionary.filter_extremes(no_below=i, no_above=0.5, keep_n=100000)\n",
    "    bow_corpus = [dictionary.doc2bow(doc) for doc in processed]\n",
    "    lda_model = gensim.models.LdaMulticore(bow_corpus, num_topics=10, id2word=dictionary, passes=2, workers=2)\n",
    "    # Compute Coherence Score using c_v\n",
    "    coherence_model_lda = CoherenceModel(model=lda_model, texts=processed, dictionary=dictionary, coherence='c_v')\n",
    "    coherence_lda = coherence_model_lda.get_coherence()\n",
    "    print('\\nCoherence Score: ', coherence_lda)\n",
    "    it.append(i)\n",
    "    dict_score.append(coherence_lda)\n",
    "    "
   ]
  },
  {
   "cell_type": "code",
   "execution_count": 21,
   "metadata": {},
   "outputs": [
    {
     "data": {
      "image/png": "[encoded data removed]",
      "text/plain": [
       "<Figure size 432x288 with 1 Axes>"
      ]
     },
     "metadata": {
      "needs_background": "light"
     },
     "output_type": "display_data"
    }
   ],
   "source": [
    "# Graph this\n",
    "import matplotlib.pyplot as plt\n",
    "plt.title('Cohrence score over dictionary filtering')\n",
    "plt.ylabel('Coherence Score')\n",
    "plt.xlabel('Number of documents')\n",
    "plt.plot(it, dict_score)\n",
    "plt.savefig('lda_score_filtering.png')\n",
    "plt.show()\n"
   ]
  },
  {
   "cell_type": "markdown",
   "metadata": {},
   "source": [
    "### Running LDA using TF-IDF\n"
   ]
  },
  {
   "cell_type": "code",
   "execution_count": 15,
   "metadata": {
    "scrolled": true
   },
   "outputs": [
    {
     "name": "stdout",
     "output_type": "stream",
     "text": [
      "Topic: 0 Word: 0.003*\"violet\" + 0.002*\"john\" + 0.002*\"valley\" + 0.001*\"estat\" + 0.001*\"cabinet\" + 0.001*\"hotel\" + 0.001*\"rome\" + 0.001*\"palac\" + 0.001*\"arch\" + 0.001*\"cathedr\"\n",
      "Topic: 1 Word: 0.002*\"museum\" + 0.001*\"squir\" + 0.001*\"ring\" + 0.001*\"deacon\" + 0.001*\"sage\" + 0.001*\"niagara\" + 0.001*\"essex\" + 0.001*\"shelf\" + 0.001*\"queen\" + 0.001*\"lamp\"\n",
      "Topic: 2 Word: 0.002*\"smith\" + 0.001*\"naughti\" + 0.001*\"bull\" + 0.001*\"knot\" + 0.001*\"poet\" + 0.001*\"insid\" + 0.001*\"palac\" + 0.001*\"poem\" + 0.001*\"englishman\" + 0.001*\"cottag\"\n",
      "Topic: 3 Word: 0.002*\"governor\" + 0.002*\"doctor\" + 0.002*\"grandfath\" + 0.002*\"colonel\" + 0.001*\"thou\" + 0.001*\"english\" + 0.001*\"peter\" + 0.001*\"artist\" + 0.001*\"schoolmast\" + 0.001*\"william\"\n",
      "Topic: 4 Word: 0.002*\"bell\" + 0.002*\"milk\" + 0.001*\"miniatur\" + 0.001*\"edward\" + 0.001*\"chapel\" + 0.001*\"deacon\" + 0.001*\"cousin\" + 0.001*\"moonlight\" + 0.001*\"clock\" + 0.001*\"slumber\"\n",
      "Topic: 5 Word: 0.003*\"giant\" + 0.002*\"dragon\" + 0.002*\"edward\" + 0.002*\"appl\" + 0.002*\"wing\" + 0.001*\"sculptor\" + 0.001*\"beach\" + 0.001*\"monster\" + 0.001*\"cousin\" + 0.001*\"student\"\n",
      "Topic: 6 Word: 0.002*\"pump\" + 0.002*\"fortress\" + 0.002*\"pearl\" + 0.001*\"nurs\" + 0.001*\"edward\" + 0.001*\"drift\" + 0.001*\"widow\" + 0.001*\"rampart\" + 0.001*\"sick\" + 0.001*\"soldier\"\n",
      "Topic: 7 Word: 0.002*\"appl\" + 0.002*\"cake\" + 0.002*\"bonfir\" + 0.001*\"banquet\" + 0.001*\"wagon\" + 0.001*\"festiv\" + 0.001*\"camp\" + 0.001*\"skeleton\" + 0.001*\"dealer\" + 0.001*\"reform\"\n",
      "Topic: 8 Word: 0.002*\"painter\" + 0.002*\"portrait\" + 0.001*\"salem\" + 0.001*\"edward\" + 0.001*\"rain\" + 0.001*\"georg\" + 0.001*\"bridg\" + 0.001*\"island\" + 0.001*\"folli\" + 0.001*\"sketch\"\n",
      "Topic: 9 Word: 0.002*\"mari\" + 0.002*\"cave\" + 0.002*\"templ\" + 0.001*\"adam\" + 0.001*\"beach\" + 0.001*\"journal\" + 0.001*\"tomb\" + 0.001*\"sepulchr\" + 0.001*\"fisherman\" + 0.001*\"thee\"\n"
     ]
    }
   ],
   "source": [
    "lda_model_tfidf = gensim.models.LdaMulticore(corpus_tfidf, num_topics=10, id2word=dictionary, passes=2, workers=4)\n",
    "for idx, topic in lda_model_tfidf.print_topics(-1):\n",
    "    print('Topic: {} Word: {}'.format(idx, topic))"
   ]
  },
  {
   "cell_type": "markdown",
   "metadata": {},
   "source": [
    "### Test with our processed model\n"
   ]
  },
  {
   "cell_type": "code",
   "execution_count": 21,
   "metadata": {},
   "outputs": [
    {
     "name": "stdout",
     "output_type": "stream",
     "text": [
      "\n",
      "Coherence Score:  0.3229081511051654\n"
     ]
    }
   ],
   "source": [
    "# Compute Coherence Score using c_v\n",
    "coherence_model_lda = CoherenceModel(model=lda_model, texts=processed, dictionary=dictionary, coherence='c_v')\n",
    "coherence_lda = coherence_model_lda.get_coherence()\n",
    "print('\\nCoherence Score: ', coherence_lda)"
   ]
  },
  {
   "cell_type": "code",
   "execution_count": 22,
   "metadata": {
    "scrolled": true
   },
   "outputs": [
    {
     "name": "stdout",
     "output_type": "stream",
     "text": [
      "\n",
      "Coherence Score:  -0.4997633127250622\n"
     ]
    }
   ],
   "source": [
    "# Compute Coherence Score using UMass\n",
    "coherence_model_lda = CoherenceModel(model=lda_model, corpus=bow_corpus, coherence='u_mass')\n",
    "coherence_lda = coherence_model_lda.get_coherence()\n",
    "print('\\nCoherence Score: ', coherence_lda)"
   ]
  },
  {
   "cell_type": "code",
   "execution_count": 14,
   "metadata": {},
   "outputs": [
    {
     "ename": "NameError",
     "evalue": "name 'lda_model_tfidf' is not defined",
     "output_type": "error",
     "traceback": [
      "\u001b[0;31m---------------------------------------------------------------------------\u001b[0m",
      "\u001b[0;31mNameError\u001b[0m                                 Traceback (most recent call last)",
      "\u001b[0;32m<ipython-input-14-89da6d4cf2f6>\u001b[0m in \u001b[0;36m<module>\u001b[0;34m()\u001b[0m\n\u001b[1;32m      1\u001b[0m \u001b[0;31m# Compute Coherence Score using c_v\u001b[0m\u001b[0;34m\u001b[0m\u001b[0;34m\u001b[0m\u001b[0;34m\u001b[0m\u001b[0m\n\u001b[0;32m----> 2\u001b[0;31m \u001b[0mcoherence_model_lda\u001b[0m \u001b[0;34m=\u001b[0m \u001b[0mCoherenceModel\u001b[0m\u001b[0;34m(\u001b[0m\u001b[0mmodel\u001b[0m\u001b[0;34m=\u001b[0m\u001b[0mlda_model_tfidf\u001b[0m\u001b[0;34m,\u001b[0m \u001b[0mtexts\u001b[0m\u001b[0;34m=\u001b[0m\u001b[0mprocessed\u001b[0m\u001b[0;34m,\u001b[0m \u001b[0mdictionary\u001b[0m\u001b[0;34m=\u001b[0m\u001b[0mdictionary\u001b[0m\u001b[0;34m,\u001b[0m \u001b[0mcoherence\u001b[0m\u001b[0;34m=\u001b[0m\u001b[0;34m'c_v'\u001b[0m\u001b[0;34m)\u001b[0m\u001b[0;34m\u001b[0m\u001b[0;34m\u001b[0m\u001b[0m\n\u001b[0m\u001b[1;32m      3\u001b[0m \u001b[0mcoherence_lda\u001b[0m \u001b[0;34m=\u001b[0m \u001b[0mcoherence_model_lda\u001b[0m\u001b[0;34m.\u001b[0m\u001b[0mget_coherence\u001b[0m\u001b[0;34m(\u001b[0m\u001b[0;34m)\u001b[0m\u001b[0;34m\u001b[0m\u001b[0;34m\u001b[0m\u001b[0m\n\u001b[1;32m      4\u001b[0m \u001b[0mprint\u001b[0m\u001b[0;34m(\u001b[0m\u001b[0;34m'\\nCoherence Score: '\u001b[0m\u001b[0;34m,\u001b[0m \u001b[0mcoherence_lda\u001b[0m\u001b[0;34m)\u001b[0m\u001b[0;34m\u001b[0m\u001b[0;34m\u001b[0m\u001b[0m\n",
      "\u001b[0;31mNameError\u001b[0m: name 'lda_model_tfidf' is not defined"
     ]
    }
   ],
   "source": [
    "# Compute Coherence Score using c_v\n",
    "coherence_model_lda = CoherenceModel(model=lda_model_tfidf, texts=processed, dictionary=dictionary, coherence='c_v')\n",
    "coherence_lda = coherence_model_lda.get_coherence()\n",
    "print('\\nCoherence Score: ', coherence_lda)"
   ]
  },
  {
   "cell_type": "code",
   "execution_count": 16,
   "metadata": {},
   "outputs": [
    {
     "name": "stdout",
     "output_type": "stream",
     "text": [
      "\n",
      "Coherence Score:  0.20928125335400233\n",
      "\n",
      "Coherence Score:  0.2589769850437554\n",
      "\n",
      "Coherence Score:  0.24891092816648866\n",
      "\n",
      "Coherence Score:  0.2973673959832128\n",
      "\n",
      "Coherence Score:  0.2612654115076347\n",
      "\n",
      "Coherence Score:  0.29857288824857475\n",
      "\n",
      "Coherence Score:  0.2979209566527604\n",
      "\n",
      "Coherence Score:  0.30189146039582687\n",
      "\n",
      "Coherence Score:  0.3001850778527834\n",
      "\n",
      "Coherence Score:  0.29191721811244625\n",
      "\n",
      "Coherence Score:  0.28569064855746834\n",
      "\n",
      "Coherence Score:  0.2827481372342997\n",
      "\n",
      "Coherence Score:  0.28502466970450385\n",
      "\n",
      "Coherence Score:  0.2999874259795194\n",
      "\n",
      "Coherence Score:  0.318884900607182\n",
      "\n",
      "Coherence Score:  0.32511312951557303\n",
      "\n",
      "Coherence Score:  0.32232159403805094\n",
      "\n",
      "Coherence Score:  0.30365901387841754\n",
      "\n",
      "Coherence Score:  0.3312454414596564\n",
      "\n",
      "Coherence Score:  0.3177422521089292\n"
     ]
    }
   ],
   "source": [
    "# Running tests to find the number of topics with best \n",
    "tf_iter = []\n",
    "tf_score = []\n",
    "for i in range(1, 41,2):\n",
    "    lda_model_tfidf = gensim.models.LdaMulticore(corpus_tfidf, num_topics=i, id2word=dictionary, passes=2, workers=4)\n",
    "    # Compute Coherence Score using c_v\n",
    "    coherence_model_lda = CoherenceModel(model=lda_model_tfidf, texts=processed, dictionary=dictionary, coherence='c_v')\n",
    "    coherence_lda = coherence_model_lda.get_coherence()\n",
    "    print('\\nCoherence Score: ', coherence_lda)\n",
    "    tf_iter.append(i)\n",
    "    tf_score.append(coherence_lda)"
   ]
  },
  {
   "cell_type": "code",
   "execution_count": 19,
   "metadata": {},
   "outputs": [
    {
     "data": {
      "image/png": "[encoded data removed]",
      "text/plain": [
       "<Figure size 432x288 with 1 Axes>"
      ]
     },
     "metadata": {
      "needs_background": "light"
     },
     "output_type": "display_data"
    }
   ],
   "source": [
    "# Graph this\n",
    "import matplotlib.pyplot as plt\n",
    "plt.title('Cohrence Score Vver TF-IDF Number of Topics')\n",
    "plt.ylabel('Coherence Score')\n",
    "plt.xlabel('Number of Topics')\n",
    "plt.plot(tf_iter, tf_score)\n",
    "plt.savefig('tfidf_score_topics.png')\n",
    "plt.show()\n"
   ]
  },
  {
   "cell_type": "code",
   "execution_count": null,
   "metadata": {},
   "outputs": [],
   "source": [
    "for index, score in sorted(lda_model[bow_corpus[0]], key=lambda tup: -1*tup[1]):\n",
    "    print(\"\\nScore: {}\\t \\nTopic: {}\".format(score, lda_model.print_topic(index, 10)))"
   ]
  },
  {
   "cell_type": "markdown",
   "metadata": {},
   "source": [
    "## CoRex"
   ]
  },
  {
   "cell_type": "code",
   "execution_count": null,
   "metadata": {},
   "outputs": [],
   "source": [
    "# Create a document-word matrix\n",
    "docs = list(range(len(processed)))\n",
    "words = []\n",
    "print(dictionary)\n",
    "for k, v in dictionary.items():\n",
    "    words.append(v)\n",
    "doc_word = np.zeros((len(processed), len(words)), dtype=int)\n",
    "print(doc_word.shape)\n",
    "row, col = doc_word.shape\n",
    "for i in range(row):\n",
    "    for j in range(col):\n",
    "        if words[j] in processed[i]:\n",
    "            doc_word[i][j] = 1"
   ]
  },
  {
   "cell_type": "code",
   "execution_count": 25,
   "metadata": {},
   "outputs": [],
   "source": [
    "# Create a document-word matrix\n",
    "doc_word = np.load('hawthorne.dat')\n",
    "docs = list(range(len(pre)))\n",
    "words = []\n",
    "for doc in pre:\n",
    "    for word in doc:\n",
    "        if word not in words:\n",
    "            words.append(word)"
   ]
  },
  {
   "cell_type": "code",
   "execution_count": 26,
   "metadata": {},
   "outputs": [
    {
     "name": "stdout",
     "output_type": "stream",
     "text": [
      "WARNING: Some words never appear (or always appear)\n"
     ]
    },
    {
     "data": {
      "text/plain": [
       "<corextopic.corextopic.Corex at 0x13cfe0f28>"
      ]
     },
     "execution_count": 26,
     "metadata": {},
     "output_type": "execute_result"
    }
   ],
   "source": [
    "# Train model\n",
    "topic_model = ct.Corex(n_hidden=10)\n",
    "topic_model.fit(doc_word, words=words, docs=docs)"
   ]
  },
  {
   "cell_type": "code",
   "execution_count": 27,
   "metadata": {},
   "outputs": [
    {
     "name": "stdout",
     "output_type": "stream",
     "text": [
      "0: readily,directly,fought,customary,sufficiently,mistaken,anger,erect,gleaming,qualities\n",
      "1: wait,younger,waited,occupied,bold,send,active,approaching,overcome,composed\n",
      "2: tame,hitting,palaces,mount,kindliness,corrupt,roofed,admirably,doorway,blame\n",
      "3: meditations,motives,despair,sources,reveal,union,contributed,principle,sermons,remorse\n",
      "4: brilliant,compassionate,suspecting,rejoiced,deed,eyesight,peaceable,antics,dash,brazen\n",
      "5: cleared,moving,crooked,fore,duty,familiarly,method,meat,grandmother,sociable\n",
      "6: furthermore,intervening,durable,decease,poetic,shivered,virulence,sterling,unheard,heavenward\n",
      "7: honest,violently,inhabitants,mournfully,misfortunes,declared,allowing,brisk,wherefore,glittering\n",
      "8: drawn,palm,absurdity,misshapen,foregone,achievements,trees,avowed,redden,boil\n",
      "9: camp,middling,norton,stating,sanctioned,spreads,webster,vengeance,footing,northward\n"
     ]
    },
    {
     "data": {
      "text/plain": [
       "[('wait', 0.5976270029672236),\n",
       " ('younger', 0.5915882404881072),\n",
       " ('waited', 0.5721998701727293),\n",
       " ('occupied', 0.5666873390735108),\n",
       " ('bold', 0.5666873390735108),\n",
       " ('send', 0.5432120548990378),\n",
       " ('active', 0.5432120548990378),\n",
       " ('approaching', 0.5432120548990378),\n",
       " ('overcome', 0.5401496656860449),\n",
       " ('composed', 0.5401496656860449)]"
      ]
     },
     "execution_count": 27,
     "metadata": {},
     "output_type": "execute_result"
    }
   ],
   "source": [
    "topics = topic_model.get_topics()\n",
    "topic_lst = []\n",
    "for topic in topics:\n",
    "    t = []\n",
    "    for tup in topic:\n",
    "        t.append(tup[0])\n",
    "    topic_lst.append(t)\n",
    "\n",
    "for n,topic in enumerate(topics):\n",
    "    topic_words,_ = zip(*topic)\n",
    "    print('{}: '.format(n) + ','.join(topic_words))\n",
    "topic_model.get_topics(topic=1, n_words=10)"
   ]
  },
  {
   "cell_type": "code",
   "execution_count": 28,
   "metadata": {},
   "outputs": [],
   "source": [
    "# from corextopic import vis_topic as vt\n",
    "# vt.vis_rep(topic_model, column_label=words, prefix='topic-model-example')"
   ]
  },
  {
   "cell_type": "code",
   "execution_count": 29,
   "metadata": {},
   "outputs": [
    {
     "data": {
      "text/plain": [
       "-0.5909495599716694"
      ]
     },
     "execution_count": 29,
     "metadata": {},
     "output_type": "execute_result"
    }
   ],
   "source": [
    "common_dictionary = gensim.corpora.Dictionary(pre)\n",
    "common_corpus = [dictionary.doc2bow(pr) for pr in pre]\n",
    "# Coherence score\n",
    "cm = CoherenceModel(topics=topic_lst, corpus=common_corpus, dictionary=common_dictionary, coherence='u_mass')\n",
    "coherence = cm.get_coherence()  # get coherence value\n",
    "coherence"
   ]
  },
  {
   "cell_type": "code",
   "execution_count": 31,
   "metadata": {},
   "outputs": [
    {
     "name": "stdout",
     "output_type": "stream",
     "text": [
      "WARNING: Some words never appear (or always appear)\n",
      "WARNING: Some words never appear (or always appear)\n",
      "WARNING: Some words never appear (or always appear)\n",
      "WARNING: Some words never appear (or always appear)\n",
      "WARNING: Some words never appear (or always appear)\n",
      "WARNING: Some words never appear (or always appear)\n",
      "WARNING: Some words never appear (or always appear)\n",
      "WARNING: Some words never appear (or always appear)\n",
      "WARNING: Some words never appear (or always appear)\n",
      "WARNING: Some words never appear (or always appear)\n",
      "WARNING: Some words never appear (or always appear)\n",
      "WARNING: Some words never appear (or always appear)\n",
      "WARNING: Some words never appear (or always appear)\n",
      "WARNING: Some words never appear (or always appear)\n",
      "WARNING: Some words never appear (or always appear)\n",
      "WARNING: Some words never appear (or always appear)\n",
      "WARNING: Some words never appear (or always appear)\n",
      "WARNING: Some words never appear (or always appear)\n",
      "WARNING: Some words never appear (or always appear)\n",
      "WARNING: Some words never appear (or always appear)\n"
     ]
    }
   ],
   "source": [
    "corex_it = []\n",
    "umass = []\n",
    "for i in range(1, 41, 2):\n",
    "    topic_model = ct.Corex(n_hidden=10)\n",
    "    topic_model.fit(doc_word, words=words, docs=docs)\n",
    "    \n",
    "    topics = topic_model.get_topics()\n",
    "    topic_lst = []\n",
    "    for topic in topics:\n",
    "        t = []\n",
    "        for tup in topic:\n",
    "            t.append(tup[0])\n",
    "        topic_lst.append(t)\n",
    "        \n",
    "    cm = CoherenceModel(topics=topic_lst, corpus=common_corpus, dictionary=common_dictionary, coherence='u_mass')\n",
    "    coherence = cm.get_coherence()  # get coherence value\n",
    "    \n",
    "    corex_it.append(i)\n",
    "    umass.append(coherence)\n"
   ]
  },
  {
   "cell_type": "code",
   "execution_count": 36,
   "metadata": {},
   "outputs": [
    {
     "data": {
      "image/png": "[encoded data removed]",
      "text/plain": [
       "<Figure size 432x288 with 1 Axes>"
      ]
     },
     "metadata": {
      "needs_background": "light"
     },
     "output_type": "display_data"
    }
   ],
   "source": [
    "# Graph this\n",
    "import matplotlib.pyplot as plt\n",
    "plt.title('Cohrence score over number of topics in CoRex')\n",
    "plt.ylabel('UMass Coherence Score')\n",
    "plt.xlabel('Number of Topics')\n",
    "plt.plot(corex_it, umass)\n",
    "plt.savefig('corex_score_topics.png')\n",
    "plt.show()\n"
   ]
  },
  {
   "cell_type": "code",
   "execution_count": null,
   "metadata": {},
   "outputs": [],
   "source": []
  }
 ],
 "metadata": {
  "kernelspec": {
   "display_name": "Python 3",
   "language": "python",
   "name": "python3"
  },
  "language_info": {
   "codemirror_mode": {
    "name": "ipython",
    "version": 3
   },
   "file_extension": ".py",
   "mimetype": "text/x-python",
   "name": "python",
   "nbconvert_exporter": "python",
   "pygments_lexer": "ipython3",
   "version": "3.7.2"
  }
 },
 "nbformat": 4,
 "nbformat_minor": 2
}
